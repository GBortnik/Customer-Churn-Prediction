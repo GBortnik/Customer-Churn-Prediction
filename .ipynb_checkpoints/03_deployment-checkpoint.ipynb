{
 "cells": [
  {
   "cell_type": "code",
   "execution_count": 5,
   "id": "1562c12d-8a2e-4a71-b7b1-462272a9a89b",
   "metadata": {},
   "outputs": [],
   "source": [
    "from azureml.core import Workspace, Environment\n",
    "from azureml.core.conda_dependencies import CondaDependencies\n",
    "\n",
    "import plotly.graph_objects as go\n",
    "import plotly.io as pio\n",
    "import json\n",
    "\n",
    "import json\n",
    "import joblib\n",
    "import pandas as pd\n",
    "from azureml.core.model import Model\n",
    "import os"
   ]
  },
  {
   "cell_type": "code",
   "execution_count": 6,
   "id": "0a816556-5ece-4c65-b0ca-7cc90fcf55ab",
   "metadata": {},
   "outputs": [
    {
     "data": {
      "text/plain": [
       "{\n",
       "    \"assetId\": \"azureml://locations/polandcentral/workspaces/d5d742c6-a47b-4566-92f6-dd94aaf2a52c/environments/churn-prediction-env/versions/1\",\n",
       "    \"databricks\": {\n",
       "        \"eggLibraries\": [],\n",
       "        \"jarLibraries\": [],\n",
       "        \"mavenLibraries\": [],\n",
       "        \"pypiLibraries\": [],\n",
       "        \"rcranLibraries\": []\n",
       "    },\n",
       "    \"docker\": {\n",
       "        \"arguments\": [],\n",
       "        \"baseDockerfile\": null,\n",
       "        \"baseImage\": \"mcr.microsoft.com/azureml/openmpi4.1.0-ubuntu20.04\",\n",
       "        \"baseImageRegistry\": {\n",
       "            \"address\": null,\n",
       "            \"password\": null,\n",
       "            \"registryIdentity\": null,\n",
       "            \"username\": null\n",
       "        },\n",
       "        \"buildContext\": null,\n",
       "        \"enabled\": false,\n",
       "        \"platform\": {\n",
       "            \"architecture\": \"amd64\",\n",
       "            \"os\": \"Linux\"\n",
       "        },\n",
       "        \"sharedVolumes\": true,\n",
       "        \"shmSize\": null\n",
       "    },\n",
       "    \"environmentVariables\": {\n",
       "        \"EXAMPLE_ENV_VAR\": \"EXAMPLE_VALUE\"\n",
       "    },\n",
       "    \"inferencingStackVersion\": null,\n",
       "    \"name\": \"churn-prediction-env\",\n",
       "    \"python\": {\n",
       "        \"baseCondaEnvironment\": null,\n",
       "        \"condaDependencies\": {\n",
       "            \"channels\": [\n",
       "                \"anaconda\",\n",
       "                \"conda-forge\"\n",
       "            ],\n",
       "            \"dependencies\": [\n",
       "                \"python=3.8.13\",\n",
       "                {\n",
       "                    \"pip\": [\n",
       "                        \"joblib\",\n",
       "                        \"azureml-defaults\"\n",
       "                    ]\n",
       "                },\n",
       "                \"scikit-learn\",\n",
       "                \"pandas\",\n",
       "                \"numpy\",\n",
       "                \"plotly\",\n",
       "                \"matplotlib\",\n",
       "                \"seaborn\"\n",
       "            ],\n",
       "            \"name\": \"project_environment\"\n",
       "        },\n",
       "        \"condaDependenciesFile\": null,\n",
       "        \"interpreterPath\": \"python\",\n",
       "        \"userManagedDependencies\": false\n",
       "    },\n",
       "    \"r\": null,\n",
       "    \"spark\": {\n",
       "        \"packages\": [],\n",
       "        \"precachePackages\": true,\n",
       "        \"repositories\": []\n",
       "    },\n",
       "    \"version\": \"1\"\n",
       "}"
      ]
     },
     "execution_count": 6,
     "metadata": {},
     "output_type": "execute_result"
    }
   ],
   "source": [
    "# Connect to workspace\n",
    "ws = Workspace.from_config()\n",
    "\n",
    "# Create environment\n",
    "env = Environment(name=\"churn-prediction-env\")\n",
    "\n",
    "# Add dependencies\n",
    "conda_deps = CondaDependencies()\n",
    "conda_deps.add_conda_package(\"scikit-learn\")\n",
    "conda_deps.add_conda_package(\"pandas\")\n",
    "conda_deps.add_conda_package(\"numpy\")\n",
    "conda_deps.add_pip_package(\"joblib\")\n",
    "conda_deps.add_pip_package(\"azureml-defaults\")\n",
    "\n",
    "# Add visualization libraries\n",
    "conda_deps.add_conda_package(\"plotly\")\n",
    "conda_deps.add_conda_package(\"matplotlib\")\n",
    "conda_deps.add_conda_package(\"seaborn\")\n",
    "\n",
    "env.python.conda_dependencies = conda_deps\n",
    "\n",
    "# Register workspace\n",
    "env.register(workspace=ws)"
   ]
  },
  {
   "cell_type": "code",
   "execution_count": 8,
   "id": "1cf92b1b-9243-48e2-abb3-d24f4d77e85c",
   "metadata": {},
   "outputs": [
    {
     "name": "stdout",
     "output_type": "stream",
     "text": [
      "score.py created\n"
     ]
    }
   ],
   "source": [
    "# Creating score.py file\n",
    "score_content = '''\n",
    "import json\n",
    "import joblib\n",
    "import pandas as pd\n",
    "import numpy as np\n",
    "from azureml.core.model import Model\n",
    "\n",
    "complete_pipeline = None\n",
    "\n",
    "def init():\n",
    "    global complete_pipeline\n",
    "    \n",
    "    try:\n",
    "        # Load pipeline\n",
    "        complete_pipeline = joblib.load(Model.get_model_path('churn_complete_model'))\n",
    "        print(\"✅ Complete pipeline loaded successfully!\")\n",
    "        \n",
    "        # Check if all components are available\n",
    "        if 'model' in complete_pipeline:\n",
    "            print(\"✅ Model found in pipeline\")\n",
    "        if 'predict_function' in complete_pipeline:\n",
    "            print(\"✅ Predict function found in pipeline\")\n",
    "        if 'preprocessing_info' in complete_pipeline:\n",
    "            print(\"✅ Preprocessing info found in pipeline\")\n",
    "            \n",
    "    except Exception as e:\n",
    "        print(f\"❌ Error loading pipeline: {str(e)}\")\n",
    "        raise\n",
    "\n",
    "def run(raw_data):\n",
    "    try:\n",
    "        # Parse JSON data\n",
    "        data = json.loads(raw_data)\n",
    "        print(f\"📥 Received data: {data}\")\n",
    "        \n",
    "        # Convert to DataFrame\n",
    "        if isinstance(data, dict):\n",
    "            df = pd.DataFrame([data])\n",
    "        else:\n",
    "            df = pd.DataFrame(data)\n",
    "        \n",
    "        print(f\"📊 DataFrame shape: {df.shape}\")\n",
    "        print(f\"📊 DataFrame columns: {df.columns.tolist()}\")\n",
    "        \n",
    "        # Use predict function from pipeline\n",
    "        result = complete_pipeline['predict_function'](df)\n",
    "        \n",
    "        # Convert numpy arrays to lists for JSON serialization\n",
    "        response = {\n",
    "            'predictions': result['predictions'].tolist(),\n",
    "            'churn_probabilities': result['churn_probabilities'].tolist(),\n",
    "            'no_churn_probabilities': result['no_churn_probabilities'].tolist()\n",
    "        }\n",
    "        \n",
    "        print(f\"📤 Sending response: {response}\")\n",
    "        return json.dumps(response)\n",
    "        \n",
    "    except Exception as e:\n",
    "        error_msg = f\"❌ Error during prediction: {str(e)}\"\n",
    "        print(error_msg)\n",
    "        return json.dumps({\"error\": error_msg})\n",
    "'''\n",
    "\n",
    "# Save score.py\n",
    "with open('score.py', 'w') as f:\n",
    "    f.write(score_content)\n",
    "print(\"score.py created\")"
   ]
  },
  {
   "cell_type": "code",
   "execution_count": 3,
   "id": "ad5a4589-349d-4d41-b39e-79352629d581",
   "metadata": {},
   "outputs": [
    {
     "name": "stdout",
     "output_type": "stream",
     "text": [
      "www\n"
     ]
    }
   ],
   "source": [
    "print('www')"
   ]
  },
  {
   "cell_type": "code",
   "execution_count": 7,
   "id": "40271773-aaee-4e6a-a062-f69ec4392b09",
   "metadata": {},
   "outputs": [
    {
     "name": "stdout",
     "output_type": "stream",
     "text": [
      "Registering model churn_complete_model\n"
     ]
    }
   ],
   "source": [
    "# Register model\n",
    "model = Model.register(\n",
    "    workspace=ws,\n",
    "    model_path=\"./churn_complete_model.joblib\",\n",
    "    model_name=\"churn_complete_model\",\n",
    "    description=\"Complete churn prediction pipeline\"\n",
    ")"
   ]
  },
  {
   "cell_type": "code",
   "execution_count": null,
   "id": "96cb539b-7755-4333-86fd-99cbc6e8d818",
   "metadata": {},
   "outputs": [],
   "source": []
  }
 ],
 "metadata": {
  "kernelspec": {
   "display_name": "Python 3.10 - AzureML",
   "language": "python",
   "name": "python38-azureml"
  },
  "language_info": {
   "codemirror_mode": {
    "name": "ipython",
    "version": 3
   },
   "file_extension": ".py",
   "mimetype": "text/x-python",
   "name": "python",
   "nbconvert_exporter": "python",
   "pygments_lexer": "ipython3",
   "version": "3.10.11"
  }
 },
 "nbformat": 4,
 "nbformat_minor": 5
}
