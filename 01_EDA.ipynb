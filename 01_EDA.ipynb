{
 "cells": [
  {
   "cell_type": "code",
   "execution_count": 1,
   "id": "bfddd412-ab36-430f-a453-e6126608a914",
   "metadata": {},
   "outputs": [
    {
     "name": "stdout",
     "output_type": "stream",
     "text": [
      "Requirement already satisfied: scikit-learn==1.5.1 in /anaconda/envs/azureml_py38/lib/python3.10/site-packages (1.5.1)\n",
      "Requirement already satisfied: joblib>=1.2.0 in /anaconda/envs/azureml_py38/lib/python3.10/site-packages (from scikit-learn==1.5.1) (1.2.0)\n",
      "Requirement already satisfied: scipy>=1.6.0 in /anaconda/envs/azureml_py38/lib/python3.10/site-packages (from scikit-learn==1.5.1) (1.11.0)\n",
      "Requirement already satisfied: threadpoolctl>=3.1.0 in /anaconda/envs/azureml_py38/lib/python3.10/site-packages (from scikit-learn==1.5.1) (3.6.0)\n",
      "Requirement already satisfied: numpy>=1.19.5 in /anaconda/envs/azureml_py38/lib/python3.10/site-packages (from scikit-learn==1.5.1) (1.23.5)\n"
     ]
    }
   ],
   "source": [
    "!pip install scikit-learn==1.5.1"
   ]
  },
  {
   "cell_type": "code",
   "execution_count": 15,
   "id": "cd6d6163-f314-4ab0-8caf-ed927d4f7b0c",
   "metadata": {},
   "outputs": [
    {
     "data": {
      "text/html": [
       "        <script type=\"text/javascript\">\n",
       "        window.PlotlyConfig = {MathJaxConfig: 'local'};\n",
       "        if (window.MathJax && window.MathJax.Hub && window.MathJax.Hub.Config) {window.MathJax.Hub.Config({SVG: {font: \"STIX-Web\"}});}\n",
       "        </script>\n",
       "        <script type=\"module\">import \"https://cdn.plot.ly/plotly-3.0.1.min\"</script>\n",
       "        "
      ]
     },
     "metadata": {},
     "output_type": "display_data"
    }
   ],
   "source": [
    "import numpy as np\n",
    "import pandas as pd\n",
    "import os\n",
    "import io\n",
    "import itertools\n",
    "\n",
    "# Azure ML libraries\n",
    "from azureml.core import Experiment, Workspace, Dataset\n",
    "\n",
    "# Data preprocessing libraries\n",
    "from sklearn.preprocessing import LabelEncoder, StandardScaler\n",
    "from sklearn.decomposition import PCA\n",
    "\n",
    "# Visualization libraries\n",
    "import matplotlib.pyplot as plt\n",
    "import seaborn as sns\n",
    "import plotly.offline as py\n",
    "import plotly.graph_objs as go\n",
    "import plotly.tools as tls\n",
    "import plotly.figure_factory as ff\n",
    "import plotly.io as pio\n",
    "from PIL import Image\n",
    "\n",
    "%matplotlib inline\n",
    "py.init_notebook_mode(connected=True)"
   ]
  },
  {
   "cell_type": "code",
   "execution_count": 16,
   "id": "68c42148-84b9-4819-ae40-187e456b7d89",
   "metadata": {},
   "outputs": [
    {
     "name": "stdout",
     "output_type": "stream",
     "text": [
      "Workspace name: customer-churn-prediction\n",
      "Azure region: polandcentral\n",
      "Subscription id: b4245f1f-9c10-4efb-98d5-791703458cf9\n",
      "Resource group: rg-ml-customerchurn-polandcentral\n"
     ]
    }
   ],
   "source": [
    "# Load workspace\n",
    "ws = Workspace.from_config()\n",
    "\n",
    "print(f\"Workspace name: {ws.name}\")\n",
    "print(f\"Azure region: {ws.location}\")\n",
    "print(f\"Subscription id: {ws.subscription_id}\")\n",
    "print(f\"Resource group: {ws.resource_group}\")"
   ]
  },
  {
   "cell_type": "code",
   "execution_count": 19,
   "id": "e2b42e37-424a-4736-a69d-3c0b6af3d30b",
   "metadata": {},
   "outputs": [
    {
     "name": "stdout",
     "output_type": "stream",
     "text": [
      "Starting experiment: churn-EDA\n"
     ]
    }
   ],
   "source": [
    "# Create experiment\n",
    "experiment = Experiment(workspace = ws, name = \"churn-EDA\")\n",
    "# Object to log data in the experiment\n",
    "run = experiment.start_logging()\n",
    "print(\"Starting experiment:\", experiment.name)"
   ]
  },
  {
   "cell_type": "code",
   "execution_count": 11,
   "id": "8718ec68-7ffb-4953-9ae8-336fa06b36f6",
   "metadata": {},
   "outputs": [],
   "source": [
    "df = pd.read_csv('CustomerChurn.csv')"
   ]
  },
  {
   "cell_type": "code",
   "execution_count": 21,
   "id": "7a070ec0-7601-4474-896c-38726356fbbc",
   "metadata": {},
   "outputs": [
    {
     "data": {
      "text/html": [
       "<div>\n",
       "<style scoped>\n",
       "    .dataframe tbody tr th:only-of-type {\n",
       "        vertical-align: middle;\n",
       "    }\n",
       "\n",
       "    .dataframe tbody tr th {\n",
       "        vertical-align: top;\n",
       "    }\n",
       "\n",
       "    .dataframe thead th {\n",
       "        text-align: right;\n",
       "    }\n",
       "</style>\n",
       "<table border=\"1\" class=\"dataframe\">\n",
       "  <thead>\n",
       "    <tr style=\"text-align: right;\">\n",
       "      <th></th>\n",
       "      <th>LoyaltyID</th>\n",
       "      <th>Customer ID</th>\n",
       "      <th>Senior Citizen</th>\n",
       "      <th>Partner</th>\n",
       "      <th>Dependents</th>\n",
       "      <th>Tenure</th>\n",
       "      <th>Phone Service</th>\n",
       "      <th>Multiple Lines</th>\n",
       "      <th>Internet Service</th>\n",
       "      <th>Online Security</th>\n",
       "      <th>...</th>\n",
       "      <th>Device Protection</th>\n",
       "      <th>Tech Support</th>\n",
       "      <th>Streaming TV</th>\n",
       "      <th>Streaming Movies</th>\n",
       "      <th>Contract</th>\n",
       "      <th>Paperless Billing</th>\n",
       "      <th>Payment Method</th>\n",
       "      <th>Monthly Charges</th>\n",
       "      <th>Total Charges</th>\n",
       "      <th>Churn</th>\n",
       "    </tr>\n",
       "  </thead>\n",
       "  <tbody>\n",
       "    <tr>\n",
       "      <th>0</th>\n",
       "      <td>318537</td>\n",
       "      <td>7590-VHVEG</td>\n",
       "      <td>No</td>\n",
       "      <td>Yes</td>\n",
       "      <td>No</td>\n",
       "      <td>1</td>\n",
       "      <td>No</td>\n",
       "      <td>No phone service</td>\n",
       "      <td>DSL</td>\n",
       "      <td>No</td>\n",
       "      <td>...</td>\n",
       "      <td>No</td>\n",
       "      <td>No</td>\n",
       "      <td>No</td>\n",
       "      <td>No</td>\n",
       "      <td>Month-to-month</td>\n",
       "      <td>Yes</td>\n",
       "      <td>Electronic check</td>\n",
       "      <td>29.85</td>\n",
       "      <td>29.85</td>\n",
       "      <td>No</td>\n",
       "    </tr>\n",
       "    <tr>\n",
       "      <th>1</th>\n",
       "      <td>152148</td>\n",
       "      <td>5575-GNVDE</td>\n",
       "      <td>No</td>\n",
       "      <td>No</td>\n",
       "      <td>No</td>\n",
       "      <td>34</td>\n",
       "      <td>Yes</td>\n",
       "      <td>No</td>\n",
       "      <td>DSL</td>\n",
       "      <td>Yes</td>\n",
       "      <td>...</td>\n",
       "      <td>Yes</td>\n",
       "      <td>No</td>\n",
       "      <td>No</td>\n",
       "      <td>No</td>\n",
       "      <td>One year</td>\n",
       "      <td>No</td>\n",
       "      <td>Mailed check</td>\n",
       "      <td>56.95</td>\n",
       "      <td>1889.5</td>\n",
       "      <td>No</td>\n",
       "    </tr>\n",
       "    <tr>\n",
       "      <th>2</th>\n",
       "      <td>326527</td>\n",
       "      <td>3668-QPYBK</td>\n",
       "      <td>No</td>\n",
       "      <td>No</td>\n",
       "      <td>No</td>\n",
       "      <td>2</td>\n",
       "      <td>Yes</td>\n",
       "      <td>No</td>\n",
       "      <td>DSL</td>\n",
       "      <td>Yes</td>\n",
       "      <td>...</td>\n",
       "      <td>No</td>\n",
       "      <td>No</td>\n",
       "      <td>No</td>\n",
       "      <td>No</td>\n",
       "      <td>Month-to-month</td>\n",
       "      <td>Yes</td>\n",
       "      <td>Mailed check</td>\n",
       "      <td>53.85</td>\n",
       "      <td>108.15</td>\n",
       "      <td>Yes</td>\n",
       "    </tr>\n",
       "    <tr>\n",
       "      <th>3</th>\n",
       "      <td>845894</td>\n",
       "      <td>7795-CFOCW</td>\n",
       "      <td>No</td>\n",
       "      <td>No</td>\n",
       "      <td>No</td>\n",
       "      <td>45</td>\n",
       "      <td>No</td>\n",
       "      <td>No phone service</td>\n",
       "      <td>DSL</td>\n",
       "      <td>Yes</td>\n",
       "      <td>...</td>\n",
       "      <td>Yes</td>\n",
       "      <td>Yes</td>\n",
       "      <td>No</td>\n",
       "      <td>No</td>\n",
       "      <td>One year</td>\n",
       "      <td>No</td>\n",
       "      <td>Bank transfer (automatic)</td>\n",
       "      <td>42.30</td>\n",
       "      <td>1840.75</td>\n",
       "      <td>No</td>\n",
       "    </tr>\n",
       "    <tr>\n",
       "      <th>4</th>\n",
       "      <td>503388</td>\n",
       "      <td>9237-HQITU</td>\n",
       "      <td>No</td>\n",
       "      <td>No</td>\n",
       "      <td>No</td>\n",
       "      <td>2</td>\n",
       "      <td>Yes</td>\n",
       "      <td>No</td>\n",
       "      <td>Fiber optic</td>\n",
       "      <td>No</td>\n",
       "      <td>...</td>\n",
       "      <td>No</td>\n",
       "      <td>No</td>\n",
       "      <td>No</td>\n",
       "      <td>No</td>\n",
       "      <td>Month-to-month</td>\n",
       "      <td>Yes</td>\n",
       "      <td>Electronic check</td>\n",
       "      <td>70.70</td>\n",
       "      <td>151.65</td>\n",
       "      <td>Yes</td>\n",
       "    </tr>\n",
       "  </tbody>\n",
       "</table>\n",
       "<p>5 rows × 21 columns</p>\n",
       "</div>"
      ],
      "text/plain": [
       "   LoyaltyID Customer ID Senior Citizen Partner Dependents  Tenure  \\\n",
       "0     318537  7590-VHVEG             No     Yes         No       1   \n",
       "1     152148  5575-GNVDE             No      No         No      34   \n",
       "2     326527  3668-QPYBK             No      No         No       2   \n",
       "3     845894  7795-CFOCW             No      No         No      45   \n",
       "4     503388  9237-HQITU             No      No         No       2   \n",
       "\n",
       "  Phone Service    Multiple Lines Internet Service Online Security  ...  \\\n",
       "0            No  No phone service              DSL              No  ...   \n",
       "1           Yes                No              DSL             Yes  ...   \n",
       "2           Yes                No              DSL             Yes  ...   \n",
       "3            No  No phone service              DSL             Yes  ...   \n",
       "4           Yes                No      Fiber optic              No  ...   \n",
       "\n",
       "  Device Protection Tech Support Streaming TV Streaming Movies  \\\n",
       "0                No           No           No               No   \n",
       "1               Yes           No           No               No   \n",
       "2                No           No           No               No   \n",
       "3               Yes          Yes           No               No   \n",
       "4                No           No           No               No   \n",
       "\n",
       "         Contract Paperless Billing             Payment Method  \\\n",
       "0  Month-to-month               Yes           Electronic check   \n",
       "1        One year                No               Mailed check   \n",
       "2  Month-to-month               Yes               Mailed check   \n",
       "3        One year                No  Bank transfer (automatic)   \n",
       "4  Month-to-month               Yes           Electronic check   \n",
       "\n",
       "  Monthly Charges  Total Charges Churn  \n",
       "0           29.85          29.85    No  \n",
       "1           56.95         1889.5    No  \n",
       "2           53.85         108.15   Yes  \n",
       "3           42.30        1840.75    No  \n",
       "4           70.70         151.65   Yes  \n",
       "\n",
       "[5 rows x 21 columns]"
      ]
     },
     "execution_count": 21,
     "metadata": {},
     "output_type": "execute_result"
    }
   ],
   "source": [
    "df.head()"
   ]
  },
  {
   "cell_type": "code",
   "execution_count": 23,
   "id": "b7a5247f-b350-4560-a8d5-1f18c5ed2276",
   "metadata": {},
   "outputs": [
    {
     "data": {
      "text/html": [
       "<div>\n",
       "<style scoped>\n",
       "    .dataframe tbody tr th:only-of-type {\n",
       "        vertical-align: middle;\n",
       "    }\n",
       "\n",
       "    .dataframe tbody tr th {\n",
       "        vertical-align: top;\n",
       "    }\n",
       "\n",
       "    .dataframe thead th {\n",
       "        text-align: right;\n",
       "    }\n",
       "</style>\n",
       "<table border=\"1\" class=\"dataframe\">\n",
       "  <thead>\n",
       "    <tr style=\"text-align: right;\">\n",
       "      <th></th>\n",
       "      <th>LoyaltyID</th>\n",
       "      <th>Tenure</th>\n",
       "      <th>Monthly Charges</th>\n",
       "    </tr>\n",
       "  </thead>\n",
       "  <tbody>\n",
       "    <tr>\n",
       "      <th>count</th>\n",
       "      <td>7043.000000</td>\n",
       "      <td>7043.000000</td>\n",
       "      <td>7043.000000</td>\n",
       "    </tr>\n",
       "    <tr>\n",
       "      <th>mean</th>\n",
       "      <td>550382.651001</td>\n",
       "      <td>32.371149</td>\n",
       "      <td>64.761692</td>\n",
       "    </tr>\n",
       "    <tr>\n",
       "      <th>std</th>\n",
       "      <td>260776.118690</td>\n",
       "      <td>24.559481</td>\n",
       "      <td>30.090047</td>\n",
       "    </tr>\n",
       "    <tr>\n",
       "      <th>min</th>\n",
       "      <td>100346.000000</td>\n",
       "      <td>0.000000</td>\n",
       "      <td>18.250000</td>\n",
       "    </tr>\n",
       "    <tr>\n",
       "      <th>25%</th>\n",
       "      <td>323604.500000</td>\n",
       "      <td>9.000000</td>\n",
       "      <td>35.500000</td>\n",
       "    </tr>\n",
       "    <tr>\n",
       "      <th>50%</th>\n",
       "      <td>548704.000000</td>\n",
       "      <td>29.000000</td>\n",
       "      <td>70.350000</td>\n",
       "    </tr>\n",
       "    <tr>\n",
       "      <th>75%</th>\n",
       "      <td>776869.000000</td>\n",
       "      <td>55.000000</td>\n",
       "      <td>89.850000</td>\n",
       "    </tr>\n",
       "    <tr>\n",
       "      <th>max</th>\n",
       "      <td>999912.000000</td>\n",
       "      <td>72.000000</td>\n",
       "      <td>118.750000</td>\n",
       "    </tr>\n",
       "  </tbody>\n",
       "</table>\n",
       "</div>"
      ],
      "text/plain": [
       "           LoyaltyID       Tenure  Monthly Charges\n",
       "count    7043.000000  7043.000000      7043.000000\n",
       "mean   550382.651001    32.371149        64.761692\n",
       "std    260776.118690    24.559481        30.090047\n",
       "min    100346.000000     0.000000        18.250000\n",
       "25%    323604.500000     9.000000        35.500000\n",
       "50%    548704.000000    29.000000        70.350000\n",
       "75%    776869.000000    55.000000        89.850000\n",
       "max    999912.000000    72.000000       118.750000"
      ]
     },
     "execution_count": 23,
     "metadata": {},
     "output_type": "execute_result"
    }
   ],
   "source": [
    "df.describe()"
   ]
  },
  {
   "cell_type": "code",
   "execution_count": 24,
   "id": "d3980ce2-fcf4-4855-9615-01b2357c6bb9",
   "metadata": {},
   "outputs": [
    {
     "data": {
      "text/plain": [
       "(7043, 21)"
      ]
     },
     "execution_count": 24,
     "metadata": {},
     "output_type": "execute_result"
    }
   ],
   "source": [
    "df.shape"
   ]
  },
  {
   "cell_type": "code",
   "execution_count": 25,
   "id": "e6e0e46b-4800-4a63-a869-fdcf7fe82a6a",
   "metadata": {},
   "outputs": [
    {
     "data": {
      "text/plain": [
       "LoyaltyID            0\n",
       "Customer ID          0\n",
       "Senior Citizen       0\n",
       "Partner              0\n",
       "Dependents           0\n",
       "Tenure               0\n",
       "Phone Service        0\n",
       "Multiple Lines       0\n",
       "Internet Service     0\n",
       "Online Security      0\n",
       "Online Backup        0\n",
       "Device Protection    0\n",
       "Tech Support         0\n",
       "Streaming TV         0\n",
       "Streaming Movies     0\n",
       "Contract             0\n",
       "Paperless Billing    0\n",
       "Payment Method       0\n",
       "Monthly Charges      0\n",
       "Total Charges        0\n",
       "Churn                0\n",
       "dtype: int64"
      ]
     },
     "execution_count": 25,
     "metadata": {},
     "output_type": "execute_result"
    }
   ],
   "source": [
    "df.isnull().sum()"
   ]
  },
  {
   "cell_type": "code",
   "execution_count": 27,
   "id": "e6166e5a-9540-4177-a0e4-c0c006471e79",
   "metadata": {},
   "outputs": [
    {
     "name": "stdout",
     "output_type": "stream",
     "text": [
      "\n",
      "Unique Values For Column LoyaltyID : 7021\n",
      "\n",
      "Unique Values For Column Customer ID : 7043\n",
      "\n",
      "Unique Values For Column Senior Citizen : 2\n",
      "\n",
      "Unique Values For Column Partner : 2\n",
      "\n",
      "Unique Values For Column Dependents : 2\n",
      "\n",
      "Unique Values For Column Tenure : 73\n",
      "\n",
      "Unique Values For Column Phone Service : 2\n",
      "\n",
      "Unique Values For Column Multiple Lines : 3\n",
      "\n",
      "Unique Values For Column Internet Service : 3\n",
      "\n",
      "Unique Values For Column Online Security : 3\n",
      "\n",
      "Unique Values For Column Online Backup : 3\n",
      "\n",
      "Unique Values For Column Device Protection : 3\n",
      "\n",
      "Unique Values For Column Tech Support : 3\n",
      "\n",
      "Unique Values For Column Streaming TV : 3\n",
      "\n",
      "Unique Values For Column Streaming Movies : 3\n",
      "\n",
      "Unique Values For Column Contract : 3\n",
      "\n",
      "Unique Values For Column Paperless Billing : 2\n",
      "\n",
      "Unique Values For Column Payment Method : 4\n",
      "\n",
      "Unique Values For Column Monthly Charges : 1585\n",
      "\n",
      "Unique Values For Column Total Charges : 6531\n",
      "\n",
      "Unique Values For Column Churn : 2\n"
     ]
    }
   ],
   "source": [
    "unique_values = df.nunique()\n",
    "\n",
    "for index in range(len(unique_values)):\n",
    "    print (\"\\nUnique Values For Column\", unique_values.keys()[index], \":\", unique_values.values[index])"
   ]
  },
  {
   "cell_type": "code",
   "execution_count": 45,
   "id": "41a7df2c-58df-48c7-979d-e7ebf0ecf029",
   "metadata": {},
   "outputs": [
    {
     "data": {
      "text/plain": [
       "array(['Yes', 'No'], dtype=object)"
      ]
     },
     "execution_count": 45,
     "metadata": {},
     "output_type": "execute_result"
    }
   ],
   "source": [
    "df['Paperless Billing'].unique()"
   ]
  },
  {
   "cell_type": "code",
   "execution_count": 33,
   "id": "823a7e38-4906-486d-8548-d734e0f539a8",
   "metadata": {},
   "outputs": [],
   "source": [
    "df['Total Charges'] = df['Total Charges'].replace(\" \",np.nan)"
   ]
  },
  {
   "cell_type": "code",
   "execution_count": 56,
   "id": "00739cb6-1b5d-49dc-ae41-dcf2518879b5",
   "metadata": {},
   "outputs": [
    {
     "data": {
      "text/plain": [
       "LoyaltyID             0\n",
       "Customer ID           0\n",
       "Senior Citizen        0\n",
       "Partner               0\n",
       "Dependents            0\n",
       "Tenure                0\n",
       "Phone Service         0\n",
       "Multiple Lines        0\n",
       "Internet Service      0\n",
       "Online Security       0\n",
       "Online Backup         0\n",
       "Device Protection     0\n",
       "Tech Support          0\n",
       "Streaming TV          0\n",
       "Streaming Movies      0\n",
       "Contract              0\n",
       "Paperless Billing     0\n",
       "Payment Method        0\n",
       "Monthly Charges       0\n",
       "Total Charges        11\n",
       "Churn                 0\n",
       "dtype: int64"
      ]
     },
     "execution_count": 56,
     "metadata": {},
     "output_type": "execute_result"
    }
   ],
   "source": [
    "df.isnull().sum()"
   ]
  },
  {
   "cell_type": "code",
   "execution_count": 58,
   "id": "ab56c31f-2f27-419a-8ffc-6d3d87b54e11",
   "metadata": {},
   "outputs": [],
   "source": [
    "df = df.dropna(subset=['Total Charges'])"
   ]
  },
  {
   "cell_type": "code",
   "execution_count": 64,
   "id": "d1d9d2f4-eb61-4b87-9e5e-0c227b129193",
   "metadata": {},
   "outputs": [],
   "source": [
    "df[\"Total Charges\"] = df[\"Total Charges\"].astype(float)"
   ]
  },
  {
   "cell_type": "code",
   "execution_count": 62,
   "id": "333e33c0-aa1e-47dd-916f-518ee09ee694",
   "metadata": {},
   "outputs": [],
   "source": [
    "replace_cols = [\"Online Security\", \"Online Backup\", \"Device Protection\",\n",
    "                \"Tech Support\",\"Streaming TV\", \"Streaming Movies\"]\n",
    "for i in replace_cols : \n",
    "    df[i]  = df[i].replace({\"No internet service\" : \"No\"})"
   ]
  },
  {
   "cell_type": "code",
   "execution_count": 65,
   "id": "c70bf4af-7557-417f-b772-c317257e953d",
   "metadata": {},
   "outputs": [],
   "source": [
    "df[\"Senior Citizen\"] = df[\"Senior Citizen\"].replace({1:\"Yes\",0:\"No\"})"
   ]
  },
  {
   "cell_type": "code",
   "execution_count": 66,
   "id": "9a34154d-0ac1-463d-9861-0333e7e71fc1",
   "metadata": {},
   "outputs": [
    {
     "data": {
      "text/plain": [
       "array(['No', 'Yes'], dtype=object)"
      ]
     },
     "execution_count": 66,
     "metadata": {},
     "output_type": "execute_result"
    }
   ],
   "source": [
    "df['Senior Citizen'].unique()"
   ]
  },
  {
   "cell_type": "code",
   "execution_count": 67,
   "id": "ba6debee-a2fc-48b2-926d-b4780b1488fd",
   "metadata": {},
   "outputs": [],
   "source": [
    "run.complete()"
   ]
  },
  {
   "cell_type": "code",
   "execution_count": null,
   "id": "a834c2bd-edc7-476e-a2ca-1b48ee8a2931",
   "metadata": {},
   "outputs": [],
   "source": []
  }
 ],
 "metadata": {
  "kernelspec": {
   "display_name": "Python 3.10 - AzureML",
   "language": "python",
   "name": "python38-azureml"
  },
  "language_info": {
   "codemirror_mode": {
    "name": "ipython",
    "version": 3
   },
   "file_extension": ".py",
   "mimetype": "text/x-python",
   "name": "python",
   "nbconvert_exporter": "python",
   "pygments_lexer": "ipython3",
   "version": "3.10.11"
  }
 },
 "nbformat": 4,
 "nbformat_minor": 5
}
